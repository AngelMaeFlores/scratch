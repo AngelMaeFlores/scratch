{
 "cells": [
  {
   "cell_type": "code",
   "execution_count": 1,
   "id": "50a24c32-1d0d-4a90-9160-847817c83e54",
   "metadata": {},
   "outputs": [],
   "source": [
    "import pandas as pd\n",
    "import numpy as np\n",
    "from scipy import stats\n",
    "import statsmodels.api as sm\n",
    "import matplotlib.pyplot as plt\n",
    "import seaborn as sns"
   ]
  },
  {
   "cell_type": "code",
   "execution_count": 6,
   "id": "c44bc435-d3f2-4fd2-8472-6fb79cc465ec",
   "metadata": {},
   "outputs": [],
   "source": [
    "total_sales= {\n",
    "    'region':np.random.choice(['North','South','East','West'],100),\n",
    "    'sales':np.round(np.random.normal(10000,2000,100),2),\n",
    "    'ad_spend':np.round(np.random.normal(5000,1000,100),2),\n",
    "    'costumer_rating':np.round(np.random.uniform(1,5,100),2),\n",
    "}                        \n",
    "\n",
    "df=pd.DataFrame(total_sales)\n",
    "df.to_csv('sales_data.csv',index=False) "
   ]
  },
  {
   "cell_type": "code",
   "execution_count": 7,
   "id": "3a240fce-a520-4afc-9219-3b8cc9e4fd91",
   "metadata": {},
   "outputs": [
    {
     "name": "stdout",
     "output_type": "stream",
     "text": [
      "Original Data Shape: (100, 4)\n"
     ]
    }
   ],
   "source": [
    "df=pd.read_csv('sales_data.csv')\n",
    "print(\"Original Data Shape:\",df.shape)"
   ]
  },
  {
   "cell_type": "code",
   "execution_count": 8,
   "id": "96f098c1-46b1-4d8a-8b59-771cc7ce32b7",
   "metadata": {},
   "outputs": [],
   "source": [
    "df.loc[np.random.choice(df.index,10),'sales']=np.nan\n",
    "df.loc[np.random.choice(df.index,5),'ad_spend']=np.nan"
   ]
  },
  {
   "cell_type": "code",
   "execution_count": 9,
   "id": "36c1e63d-7081-456e-a8d0-5df5b5c3bba8",
   "metadata": {},
   "outputs": [],
   "source": [
    "df.to_csv('sales_data_miss.csv',index=False)"
   ]
  },
  {
   "cell_type": "code",
   "execution_count": 13,
   "id": "e68d5e92-447e-47be-a8e2-9306197cb9fd",
   "metadata": {},
   "outputs": [
    {
     "name": "stdout",
     "output_type": "stream",
     "text": [
      "Original Data Shape: (100, 4)\n",
      "Cleaned Data Shape: (95, 4)\n"
     ]
    }
   ],
   "source": [
    "df=pd.read_csv('sales_data_miss.csv')\n",
    "print(\"Original Data Shape:\",df.shape)\n",
    "df['sales']=df['sales'].fillna(df['sales'].mean())\n",
    "df=df.dropna(subset=['ad_spend'])\n",
    "print(\"Cleaned Data Shape:\",df.shape)\n",
    "df.to_csv('sales_data_clean.csv',index=False)"
   ]
  },
  {
   "cell_type": "code",
   "execution_count": 16,
   "id": "9eb6cfa6-0789-478f-8289-a9664a1e43b0",
   "metadata": {},
   "outputs": [
    {
     "name": "stdout",
     "output_type": "stream",
     "text": [
      "Correlation between Sales and Ad Spend:0.22\n"
     ]
    }
   ],
   "source": [
    "#Numpy\n",
    "sales=df['sales'].to_numpy()\n",
    "ad_spend=df['ad_spend'].to_numpy()\n",
    "correlation=np.corrcoef(sales,ad_spend)[0,1]\n",
    "print(f\"Correlation between Sales and Ad Spend:{correlation:.2f}\")"
   ]
  },
  {
   "cell_type": "code",
   "execution_count": 22,
   "id": "991094cf-ffd3-49b1-add5-107722096ed2",
   "metadata": {},
   "outputs": [
    {
     "name": "stdout",
     "output_type": "stream",
     "text": [
      "T-test between North and South Sales:t=1.80,p=0.079295\n"
     ]
    }
   ],
   "source": [
    "#Scipy\n",
    "North_sales=df[df['region']=='North']['sales']\n",
    "south_sales=df[df['region']=='South']['sales']\n",
    "t_stat,p_value=stats.ttest_ind(North_sales,south_sales)\n",
    "print(f\"T-test between North and South Sales:t={t_stat:.2f},p={p_value:3f}\")"
   ]
  },
  {
   "cell_type": "code",
   "execution_count": null,
   "id": "e0c7779e-68e0-460b-85ce-75a53c792d5d",
   "metadata": {},
   "outputs": [],
   "source": []
  }
 ],
 "metadata": {
  "kernelspec": {
   "display_name": "Python 3 (ipykernel)",
   "language": "python",
   "name": "python3"
  },
  "language_info": {
   "codemirror_mode": {
    "name": "ipython",
    "version": 3
   },
   "file_extension": ".py",
   "mimetype": "text/x-python",
   "name": "python",
   "nbconvert_exporter": "python",
   "pygments_lexer": "ipython3",
   "version": "3.12.7"
  }
 },
 "nbformat": 4,
 "nbformat_minor": 5
}
